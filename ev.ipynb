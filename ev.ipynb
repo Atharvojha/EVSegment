{
 "cells": [
  {
   "cell_type": "markdown",
   "metadata": {},
   "source": [
    "# Market Segmentation Analysis of Electric Vehicles (EVs) in India\n",
    "\n",
    "This notebook presents a comprehensive market segmentation analysis of electric vehicles in India. The analysis aims to identify distinct market segments based on vehicle attributes like range, price, style, and capacity."
   ]
  },
  {
   "cell_type": "code",
   "execution_count": null,
   "metadata": {
    "vscode": {
     "languageId": "plaintext"
    }
   },
   "outputs": [],
   "source": [
    "## Data Loading and Initial Exploration\n",
    "\n",
    "import pandas as pd\n",
    "import matplotlib.pyplot as plt\n",
    "import seaborn as sns\n",
    "from sklearn.cluster import KMeans\n",
    "from sklearn.preprocessing import StandardScaler\n",
    "from sklearn.impute import SimpleImputer\n",
    "\n",
    "# Load the dataset\n",
    "file_path = 'EVIndia.csv' # Update the path according to your dataset location\n",
    "ev_data = pd.read_csv(file_path)\n",
    "ev_data.head()"
   ]
  },
  {
   "cell_type": "code",
   "execution_count": null,
   "metadata": {
    "vscode": {
     "languageId": "plaintext"
    }
   },
   "outputs": [],
   "source": [
    "## Data Cleaning and Preprocessing\n",
    "\n",
    "# Converting 'PriceRange' and 'Range' to numerical values and handling missing values\n",
    "# (The actual code for conversion will depend on the format of these columns in your dataset)\n",
    "\n",
    "# Standardizing the numerical data\n",
    "scaler = StandardScaler()\n",
    "features_to_scale = ['Range', 'MinPrice', 'MaxPrice'] # Update these features based on your dataset\n",
    "ev_data_scaled = scaler.fit_transform(ev_data[features_to_scale])"
   ]
  },
  {
   "cell_type": "code",
   "execution_count": null,
   "metadata": {
    "vscode": {
     "languageId": "plaintext"
    }
   },
   "outputs": [],
   "source": [
    "\n",
    "## Exploratory Data Analysis (EDA)\n",
    "\n",
    "# Descriptive statistics\n",
    "ev_data.describe()\n",
    "\n",
    "# Distribution of numerical features like Range and Price\n",
    "plt.figure(figsize=(12, 5))\n",
    "sns.histplot(ev_data['Range'], bins=15)\n",
    "plt.title('Distribution of Range')\n",
    "plt.show()"
   ]
  },
  {
   "cell_type": "code",
   "execution_count": null,
   "metadata": {
    "vscode": {
     "languageId": "plaintext"
    }
   },
   "outputs": [],
   "source": [
    "\n",
    "## Clustering Analysis Using K-Means\n",
    "\n",
    "# Elbow method to determine the optimal number of clusters\n",
    "sse = []\n",
    "for k in range(1, 11):\n",
    "    kmeans = KMeans(n_clusters=k, random_state=42)\n",
    "    kmeans.fit(ev_data_scaled)\n",
    "    sse.append(kmeans.inertia_)\n",
    "\n",
    "# Plotting the Elbow graph\n",
    "plt.figure(figsize=(10, 6))\n",
    "plt.plot(range(1, 11), sse, marker='o')\n",
    "plt.title('Elbow Method for Determining Optimal Number of Clusters')\n",
    "plt.xlabel('Number of Clusters')\n",
    "plt.ylabel('Sum of Squared Errors (SSE)')\n",
    "plt.show()\n",
    "\n",
    "# Applying K-means clustering\n",
    "optimal_clusters = 4 # This can be adjusted based on the Elbow graph\n",
    "kmeans = KMeans(n_clusters=optimal_clusters, random_state=42)\n",
    "clusters = kmeans.fit_predict(ev_data_scaled)\n",
    "ev_data['Cluster'] = clusters\n"
   ]
  },
  {
   "cell_type": "code",
   "execution_count": null,
   "metadata": {
    "vscode": {
     "languageId": "plaintext"
    }
   },
   "outputs": [],
   "source": [
    "## Cluster Analysis and Interpretation\n",
    "\n",
    "# Statistical summary of each cluster\n",
    "cluster_summary = ev_data.groupby('Cluster').mean()\n",
    "cluster_summary['Count'] = ev_data['Cluster'].value_counts()\n",
    "cluster_summary"
   ]
  },
  {
   "cell_type": "code",
   "execution_count": null,
   "metadata": {
    "vscode": {
     "languageId": "plaintext"
    }
   },
   "outputs": [],
   "source": [
    "## Categorical Variable Analysis within Clusters\n",
    "\n",
    "# Analyzing the distribution of 'Style', 'Transmission', and 'Capacity' within each cluster\n",
    "plt.figure(figsize=(12, 7))\n",
    "sns.countplot(data=ev_data, x='Cluster', hue='Style')\n",
    "plt.title('Style Distribution in Each Cluster')\n",
    "plt.legend(title='Style', bbox_to_anchor=(1.05, 1), loc='upper left')\n",
    "plt.show()"
   ]
  }
 ],
 "metadata": {
  "language_info": {
   "name": "python"
  }
 },
 "nbformat": 4,
 "nbformat_minor": 2
}
